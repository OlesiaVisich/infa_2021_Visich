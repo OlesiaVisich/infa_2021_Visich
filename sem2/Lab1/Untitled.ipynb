{
 "cells": [
  {
   "cell_type": "code",
   "execution_count": 1,
   "metadata": {},
   "outputs": [],
   "source": [
    "import numpy as np\n",
    "import matplotlib.pyplot as plt"
   ]
  },
  {
   "cell_type": "code",
   "execution_count": 17,
   "metadata": {},
   "outputs": [
    {
     "data": {
      "image/png": "[encoded data removed]",
      "text/plain": [
       "<Figure size 432x288 with 1 Axes>"
      ]
     },
     "metadata": {
      "needs_background": "light"
     },
     "output_type": "display_data"
    }
   ],
   "source": [
    "import numpy as np\n",
    "import matplotlib.pyplot as plt\n",
    "f=open('mutant.txt', 'r')\n",
    "d=open('wild_type.txt', 'r')\n",
    "data_x=[]\n",
    "data_y=[]\n",
    "data_x_w=[]\n",
    "data_y_w=[]\n",
    "for line in f:\n",
    "    #stroka=f.readline()\n",
    "    if line.split('\\t')[0]!='Concentration, nM':\n",
    "        #print(line)\n",
    "        #print(len(line))\n",
    "        data_x.append(float(line.split('\\t')[0]))\n",
    "        data_y.append(float(line.split('\\t')[1]))\n",
    "for line in d:\n",
    "    #stroka=f.readline()\n",
    "    if line.split('\\t')[0]!='Concentration, nM':\n",
    "       #print(line)\n",
    "       #print(len(line))\n",
    "        data_x_w.append(float(line.split('\\t')[0]))\n",
    "        data_y_w.append(float(line.split('\\t')[1]))        \n",
    "        \n",
    "plt.plot(data_x, data_y)\n",
    "plt.plot(data_x_w, data_y_w)\n",
    "plt.show()"
   ]
  },
  {
   "cell_type": "code",
   "execution_count": null,
   "metadata": {},
   "outputs": [],
   "source": []
  },
  {
   "cell_type": "code",
   "execution_count": null,
   "metadata": {},
   "outputs": [],
   "source": []
  }
 ],
 "metadata": {
  "kernelspec": {
   "display_name": "Python 3",
   "language": "python",
   "name": "python3"
  }
 },
 "nbformat": 4,
 "nbformat_minor": 2
}
