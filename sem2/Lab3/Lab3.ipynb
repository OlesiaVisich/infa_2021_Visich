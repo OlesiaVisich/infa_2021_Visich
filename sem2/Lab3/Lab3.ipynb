{
 "cells": [
  {
   "cell_type": "code",
   "execution_count": 21,
   "metadata": {},
   "outputs": [
    {
     "data": {
      "image/png": "[encoded data removed]",
      "text/plain": [
       "<Figure size 432x288 with 5 Axes>"
      ]
     },
     "metadata": {
      "needs_background": "light"
     },
     "output_type": "display_data"
    }
   ],
   "source": [
    "import numpy as np\n",
    "import matplotlib.pyplot as plt\n",
    "f=open('melting.txt')\n",
    "temp=[]\n",
    "data1=[]\n",
    "data2=[]\n",
    "data3=[]\n",
    "data4=[]\n",
    "data5=[]\n",
    "temp2=[]\n",
    "for line in f:\n",
    "    if line.split('\\t')[0]!='t':\n",
    "        temp.append(float(line.split('\\t')[0]))\n",
    "        data1.append(float(line.split('\\t')[1]))\n",
    "        data2.append(float(line.split('\\t')[2]))\n",
    "        data3.append(float(line.split('\\t')[3]))\n",
    "        data4.append(float(line.split('\\t')[4]))\n",
    "        data5.append(float(line.split('\\t')[5]))\n",
    "def normate(mas):\n",
    "    mas=np.array(mas)\n",
    "    mas=mas-mas.min()\n",
    "    mas=mas/(mas.max())\n",
    "    return mas\n",
    "sp=plt.subplot(231)\n",
    "plt.plot(temp, normate(data1))\n",
    "plt.title('S1+')\n",
    "\n",
    "sp=plt.subplot(232)\n",
    "plt.plot(temp, normate(data2))\n",
    "plt.title('S3+')\n",
    "\n",
    "sp=plt.subplot(233)\n",
    "plt.plot(temp, normate(data3))\n",
    "plt.title('S9+')\n",
    "\n",
    "sp=plt.subplot(234)\n",
    "plt.plot(temp, normate(data4))\n",
    "plt.title('S27+')\n",
    "\n",
    "sp=plt.subplot(235)\n",
    "plt.plot(temp, normate(data5))\n",
    "plt.title('S81+')\n",
    "\n",
    "plt.tight_layout()\n",
    "plt.show()\n"
   ]
  },
  {
   "cell_type": "code",
   "execution_count": 22,
   "metadata": {},
   "outputs": [
    {
     "name": "stdout",
     "output_type": "stream",
     "text": [
      "[50.35, 58.65, 50.55, 45.35, 57.4] [39.611111111111114, 55.5, 51.55555555555556, 53.55555555555556, 49.94444444444444, 58.5]\n"
     ]
    }
   ],
   "source": [
    "import numpy as np\n",
    "import matplotlib.pyplot as plt\n",
    "f=open('ex2_1.txt')\n",
    "g=open('ex2_2.txt')\n",
    "#mas=f.readlines()\n",
    "#leng=len(mas)\n",
    "def reading(file, sep):\n",
    "    mas=file.readlines()\n",
    "    leng=len(mas)\n",
    "    string=mas[1].split(sep)\n",
    "    lenstr=len(string)\n",
    "    sqmas=[[0]*lenstr for _ in range(leng)]\n",
    "    for i in range (leng):\n",
    "        for j in range (lenstr):\n",
    "            sqmas[i][j]=int(mas[i].strip().split(sep)[j])\n",
    "    sqmas=np.array(sqmas)\n",
    "    return sqmas, lenstr, leng\n",
    "def middle (sqmas, lenstr, leng):\n",
    "    midmas=[0]*lenstr\n",
    "    for j in range (lenstr):\n",
    "        for i in range (leng):\n",
    "            midmas[j]+=sqmas[i,j]\n",
    "        midmas[j]=midmas[j]/leng\n",
    "    return midmas\n",
    "sqr, width, heigh=reading(f, '\\t')\n",
    "sqr2, width2, heigh2=reading(g, '\\t')\n",
    "mid1=middle(sqr, width, heigh)\n",
    "mid2=middle(sqr2, width2, heigh2)\n",
    "print(mid1, mid2)\n",
    "\n",
    "    \n"
   ]
  },
  {
   "cell_type": "code",
   "execution_count": 30,
   "metadata": {},
   "outputs": [
    {
     "name": "stdout",
     "output_type": "stream",
     "text": [
      "[[16  3  2 13]\n",
      " [ 5 10 11  8]\n",
      " [ 9  6  7 12]\n",
      " [ 4 15 14  1]]\n",
      "[34, 34, 34, 34] [34, 34, 34, 34]\n",
      "34 34 34 34 34\n"
     ]
    }
   ],
   "source": [
    "import numpy as np\n",
    "import matplotlib.pyplot as plt\n",
    "square = np.array([\n",
    "    [16, 3, 2, 13],\n",
    "    [5, 10, 11, 8],\n",
    "    [9, 6, 7, 12],\n",
    "    [4, 15, 14, 1]\n",
    "])\n",
    "print(square)\n",
    "k=4\n",
    "mash=[0]*k\n",
    "masw=[0]*k\n",
    "for j in range(k):\n",
    "    for i in range(k):\n",
    "        mash[j]+=square[i,j]\n",
    "for i in range(k):\n",
    "    for j in range(k):\n",
    "        masw[i]+=square[i,j]\n",
    "print(mash, masw)\n",
    "def sumsquare(mas, a, b, c, d):\n",
    "    sum=0\n",
    "    for i in range (a, b):\n",
    "        #print(i)\n",
    "        for j in range (c, d):\n",
    "            sum+=mas[i,j]\n",
    "            #print(sum)\n",
    "    return sum\n",
    "sum1=sumsquare(square, 0, 2, 0, 2)\n",
    "sum2=sumsquare(square, 0, 2, 2, 4)\n",
    "sum3=sumsquare(square, 2, 4, 0, 2)\n",
    "sum4=sumsquare(square, 2, 4, 2, 4)\n",
    "sum5=sumsquare(square, 1, 3, 1, 3)\n",
    "print(sum1, sum2, sum3, sum4, sum5)\n"
   ]
  },
  {
   "cell_type": "code",
   "execution_count": 26,
   "metadata": {},
   "outputs": [
    {
     "name": "stdout",
     "output_type": "stream",
     "text": [
      "575.4316912317197\n"
     ]
    }
   ],
   "source": [
    "import numpy as np\n",
    "f=open('ex4.txt')\n",
    "def read(file):\n",
    "    mas=file.readlines()\n",
    "    leng=len(mas)\n",
    "    imas=[0]*leng\n",
    "    for i in range (leng):\n",
    "        imas[i]=int(mas[i].strip())\n",
    "    imas=np.array(imas)\n",
    "    return imas, leng\n",
    "mas, l=read(f)\n",
    "mas1=[]\n",
    "mas2=[]\n",
    "masclean=[]\n",
    "mas.sort()\n",
    "#print(mas)\n",
    "mid1=np.mean(mas)\n",
    "#print(mid)\n",
    "def midsquare(mas):\n",
    "    glob=0\n",
    "    pred=0\n",
    "    ford=0\n",
    "    for i in range(len(mas)):\n",
    "        glob+=mas[i]\n",
    "    m=glob/len(mas)\n",
    "    for i in range(len(mas)):\n",
    "        ford=(mas[i]-m)**2\n",
    "        pred+=ford\n",
    "    sqrd=(1/(len(mas)-1))*pred\n",
    "    d=sqrd**0.5\n",
    "    return d\n",
    "def mediana(mas):\n",
    "    n=len(mas)\n",
    "    if (n%2==0):\n",
    "        k=n//2+1\n",
    "        l=n//2\n",
    "        m=l\n",
    "        mediana=(mas[k-1]+mas[l-1])/2\n",
    "    else:\n",
    "        m=n//2+1\n",
    "        mediana=mas[m-1]\n",
    "    return mediana, m\n",
    "median, m=mediana(mas)\n",
    "for i in range (m+1):\n",
    "    mas1.append(mas[i])\n",
    "for i in range (m+1, len(mas)):\n",
    "    mas2.append(mas[i])\n",
    "Q1, k=mediana(mas1)\n",
    "Q3, k=mediana(mas2)\n",
    "IQR=abs(Q1-Q3)\n",
    "notmore=Q1-1.5*IQR\n",
    "notless=Q3+1.5*IQR\n",
    "for i in range (l):\n",
    "    if mas[i]>notmore and mas[i]<notless:\n",
    "        masclean.append(mas[i])\n",
    "mid2=np.mean(masclean)\n",
    "midsqr2=midsquare(masclean)\n",
    "print('For uncleaned array:')\n",
    "print('Mean:', mid1, ' Midsquare:', midsquare(mas))\n",
    "print('For cleaned array:')\n",
    "print('Mean:', mid2, ' Midsquare:', mi)\n",
    "#print(mas1, mas2, Q3)\n",
    "#print(midsquare(mas))"
   ]
  },
  {
   "cell_type": "code",
   "execution_count": null,
   "metadata": {},
   "outputs": [],
   "source": []
  },
  {
   "cell_type": "code",
   "execution_count": null,
   "metadata": {},
   "outputs": [],
   "source": []
  },
  {
   "cell_type": "code",
   "execution_count": null,
   "metadata": {},
   "outputs": [],
   "source": []
  },
  {
   "cell_type": "code",
   "execution_count": null,
   "metadata": {},
   "outputs": [],
   "source": []
  }
 ],
 "metadata": {
  "kernelspec": {
   "display_name": "Python 3",
   "language": "python",
   "name": "python3"
  },
  "language_info": {
   "codemirror_mode": {
    "name": "ipython",
    "version": 3
   },
   "file_extension": ".py",
   "mimetype": "text/x-python",
   "name": "python",
   "nbconvert_exporter": "python",
   "pygments_lexer": "ipython3",
   "version": "3.7.3"
  }
 },
 "nbformat": 4,
 "nbformat_minor": 2
}
