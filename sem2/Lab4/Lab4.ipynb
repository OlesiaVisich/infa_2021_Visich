{
 "cells": [
  {
   "cell_type": "code",
   "execution_count": 16,
   "metadata": {},
   "outputs": [
    {
     "name": "stdout",
     "output_type": "stream",
     "text": [
      "[[ 4  3  2  1]\n",
      " [ 5  6  7  8]\n",
      " [ 9 10 11 12]\n",
      " [16 15 14 13]]\n",
      "[[ 4  5  9 16]\n",
      " [ 3  6 10 15]\n",
      " [ 2  7 11 14]\n",
      " [ 1  8 12 13]]\n",
      "[[ 4  3  2  1  4  5  9 16]\n",
      " [ 5  6  7  8  3  6 10 15]\n",
      " [ 9 10 11 12  2  7 11 14]\n",
      " [16 15 14 13  1  8 12 13]]\n",
      "[[ 4  3  2  1]\n",
      " [ 5  6  7  8]\n",
      " [ 9 10 11 12]\n",
      " [16 15 14 13]\n",
      " [ 4  5  9 16]\n",
      " [ 3  6 10 15]\n",
      " [ 2  7 11 14]\n",
      " [ 1  8 12 13]]\n",
      "[ 4  3  2  1  5  6  7  8  9 10 11 12 16 15 14 13  4  5  9 16  3  6 10 15\n",
      "  2  7 11 14  1  8 12 13]\n"
     ]
    }
   ],
   "source": [
    "import numpy as np\n",
    "square = np.array([\n",
    "    [16, 3, 2, 13],\n",
    "    [5, 10, 11, 8],\n",
    "    [9, 6, 7, 12],\n",
    "    [4, 15, 14, 1]\n",
    "])\n",
    "square1=np.sort(square, axis=0)\n",
    "squareT=square1.T\n",
    "con1=np.hstack((square1, squareT))\n",
    "con2=np.vstack((square1, squareT))\n",
    "con3=np.concatenate((square1, squareT), axis=None)\n",
    "print(square1)\n",
    "print(squareT)\n",
    "print(con1)\n",
    "print(con2)\n",
    "print(con3)"
   ]
  },
  {
   "cell_type": "code",
   "execution_count": 27,
   "metadata": {},
   "outputs": [
    {
     "name": "stdout",
     "output_type": "stream",
     "text": [
      "1000\n",
      "1000\n",
      "1\n",
      "-1\n",
      "2\n",
      "2000\n",
      "1234\n",
      "234\n",
      "123\n",
      "134\n",
      "[1000 1000    1   -1    2 2000 1234  234  123  134] 11\n"
     ]
    }
   ],
   "source": [
    "import numpy as np\n",
    "def optimize(mas):\n",
    "    minimum=min(mas)\n",
    "    maximum=max(mas)\n",
    "    if minimum>=0:\n",
    "        minus=False\n",
    "    else:\n",
    "        minus=True\n",
    "    if minus:\n",
    "        nmin=int(-np.log2(abs(minimum)+1))\n",
    "        nmax=int(np.log2(maximum+1)+1)\n",
    "        n=max(nmin, nmax)\n",
    "    else:\n",
    "        n=int(np.log2(maximum+1))\n",
    "    if minus:\n",
    "        if n<=8:\n",
    "            M=np.array(mas, dtype=np.int8)\n",
    "        elif n<=16:\n",
    "            M=np.array(mas, dtype=np.int16)\n",
    "        elif n<=32:\n",
    "            M=np.array(mas, dtype=np.int32)\n",
    "        else:\n",
    "            M=np.array(mas, dtype=np.int64)\n",
    "    else:\n",
    "        if n<=8:\n",
    "            M=np.array(mas, dtype=np.uint8)\n",
    "        elif n<=16:\n",
    "            M=np.array(mas, dtype=np.uint16)\n",
    "        elif n<=32:\n",
    "            M=np.array(mas, dtype=np.uint32)\n",
    "        else:\n",
    "            M=np.array(mas, dtype=np.uint64)\n",
    "    return M, n\n",
    "mas=[]\n",
    "for i in range (10):\n",
    "    m=int(input())\n",
    "    mas.append(m)\n",
    "Arr, n=optimize(mas)\n",
    "print(Arr)"
   ]
  },
  {
   "cell_type": "code",
   "execution_count": 41,
   "metadata": {},
   "outputs": [
    {
     "ename": "ValueError",
     "evalue": "invalid literal for int() with base 10: '5-Apr'",
     "output_type": "error",
     "traceback": [
      "\u001b[1;31m---------------------------------------------------------------------------\u001b[0m",
      "\u001b[1;31mValueError\u001b[0m                                Traceback (most recent call last)",
      "\u001b[1;32m<ipython-input-41-82d0e1fb23c7>\u001b[0m in \u001b[0;36m<module>\u001b[1;34m\u001b[0m\n\u001b[0;32m     11\u001b[0m     \u001b[0mimas\u001b[0m\u001b[1;33m=\u001b[0m\u001b[0mnp\u001b[0m\u001b[1;33m.\u001b[0m\u001b[0marray\u001b[0m\u001b[1;33m(\u001b[0m\u001b[0mimas\u001b[0m\u001b[1;33m,\u001b[0m \u001b[0mdtype\u001b[0m\u001b[1;33m=\u001b[0m\u001b[1;33m[\u001b[0m\u001b[1;33m(\u001b[0m\u001b[1;34m'Date'\u001b[0m\u001b[1;33m,\u001b[0m \u001b[0mstr\u001b[0m\u001b[1;33m,\u001b[0m \u001b[1;36m6\u001b[0m\u001b[1;33m)\u001b[0m\u001b[1;33m,\u001b[0m \u001b[1;33m(\u001b[0m\u001b[1;34m'Name'\u001b[0m\u001b[1;33m,\u001b[0m \u001b[0mstr\u001b[0m\u001b[1;33m,\u001b[0m \u001b[1;36m5\u001b[0m\u001b[1;33m)\u001b[0m\u001b[1;33m,\u001b[0m \u001b[1;33m(\u001b[0m\u001b[1;34m'Volume'\u001b[0m\u001b[1;33m,\u001b[0m \u001b[0mint\u001b[0m\u001b[1;33m)\u001b[0m\u001b[1;33m,\u001b[0m \u001b[1;33m(\u001b[0m\u001b[1;34m'Comment'\u001b[0m\u001b[1;33m,\u001b[0m \u001b[0mstr\u001b[0m\u001b[1;33m,\u001b[0m \u001b[1;36m15\u001b[0m\u001b[1;33m)\u001b[0m\u001b[1;33m]\u001b[0m\u001b[1;33m)\u001b[0m\u001b[1;33m\u001b[0m\u001b[1;33m\u001b[0m\u001b[0m\n\u001b[0;32m     12\u001b[0m     \u001b[1;32mreturn\u001b[0m \u001b[0mimas\u001b[0m\u001b[1;33m\u001b[0m\u001b[1;33m\u001b[0m\u001b[0m\n\u001b[1;32m---> 13\u001b[1;33m \u001b[0mM\u001b[0m\u001b[1;33m=\u001b[0m\u001b[0mread\u001b[0m\u001b[1;33m(\u001b[0m\u001b[0mf\u001b[0m\u001b[1;33m)\u001b[0m\u001b[1;33m\u001b[0m\u001b[1;33m\u001b[0m\u001b[0m\n\u001b[0m\u001b[0;32m     14\u001b[0m \u001b[0mprint\u001b[0m\u001b[1;33m(\u001b[0m\u001b[0mM\u001b[0m\u001b[1;33m)\u001b[0m\u001b[1;33m\u001b[0m\u001b[1;33m\u001b[0m\u001b[0m\n",
      "\u001b[1;32m<ipython-input-41-82d0e1fb23c7>\u001b[0m in \u001b[0;36mread\u001b[1;34m(file)\u001b[0m\n\u001b[0;32m      9\u001b[0m             \u001b[0mimas\u001b[0m\u001b[1;33m[\u001b[0m\u001b[0mi\u001b[0m\u001b[1;33m-\u001b[0m\u001b[1;36m1\u001b[0m\u001b[1;33m]\u001b[0m\u001b[1;33m[\u001b[0m\u001b[0mj\u001b[0m\u001b[1;33m]\u001b[0m\u001b[1;33m=\u001b[0m\u001b[0mmas\u001b[0m\u001b[1;33m[\u001b[0m\u001b[0mi\u001b[0m\u001b[1;33m]\u001b[0m\u001b[1;33m.\u001b[0m\u001b[0mstrip\u001b[0m\u001b[1;33m(\u001b[0m\u001b[1;33m)\u001b[0m\u001b[1;33m.\u001b[0m\u001b[0msplit\u001b[0m\u001b[1;33m(\u001b[0m\u001b[1;34m'\\t'\u001b[0m\u001b[1;33m)\u001b[0m\u001b[1;33m[\u001b[0m\u001b[0mj\u001b[0m\u001b[1;33m]\u001b[0m\u001b[1;33m\u001b[0m\u001b[1;33m\u001b[0m\u001b[0m\n\u001b[0;32m     10\u001b[0m     \u001b[0mimas\u001b[0m\u001b[1;33m=\u001b[0m\u001b[0mnp\u001b[0m\u001b[1;33m.\u001b[0m\u001b[0marray\u001b[0m\u001b[1;33m(\u001b[0m\u001b[0mimas\u001b[0m\u001b[1;33m)\u001b[0m\u001b[1;33m\u001b[0m\u001b[1;33m\u001b[0m\u001b[0m\n\u001b[1;32m---> 11\u001b[1;33m     \u001b[0mimas\u001b[0m\u001b[1;33m=\u001b[0m\u001b[0mnp\u001b[0m\u001b[1;33m.\u001b[0m\u001b[0marray\u001b[0m\u001b[1;33m(\u001b[0m\u001b[0mimas\u001b[0m\u001b[1;33m,\u001b[0m \u001b[0mdtype\u001b[0m\u001b[1;33m=\u001b[0m\u001b[1;33m[\u001b[0m\u001b[1;33m(\u001b[0m\u001b[1;34m'Date'\u001b[0m\u001b[1;33m,\u001b[0m \u001b[0mstr\u001b[0m\u001b[1;33m,\u001b[0m \u001b[1;36m6\u001b[0m\u001b[1;33m)\u001b[0m\u001b[1;33m,\u001b[0m \u001b[1;33m(\u001b[0m\u001b[1;34m'Name'\u001b[0m\u001b[1;33m,\u001b[0m \u001b[0mstr\u001b[0m\u001b[1;33m,\u001b[0m \u001b[1;36m5\u001b[0m\u001b[1;33m)\u001b[0m\u001b[1;33m,\u001b[0m \u001b[1;33m(\u001b[0m\u001b[1;34m'Volume'\u001b[0m\u001b[1;33m,\u001b[0m \u001b[0mint\u001b[0m\u001b[1;33m)\u001b[0m\u001b[1;33m,\u001b[0m \u001b[1;33m(\u001b[0m\u001b[1;34m'Comment'\u001b[0m\u001b[1;33m,\u001b[0m \u001b[0mstr\u001b[0m\u001b[1;33m,\u001b[0m \u001b[1;36m15\u001b[0m\u001b[1;33m)\u001b[0m\u001b[1;33m]\u001b[0m\u001b[1;33m)\u001b[0m\u001b[1;33m\u001b[0m\u001b[1;33m\u001b[0m\u001b[0m\n\u001b[0m\u001b[0;32m     12\u001b[0m     \u001b[1;32mreturn\u001b[0m \u001b[0mimas\u001b[0m\u001b[1;33m\u001b[0m\u001b[1;33m\u001b[0m\u001b[0m\n\u001b[0;32m     13\u001b[0m \u001b[0mM\u001b[0m\u001b[1;33m=\u001b[0m\u001b[0mread\u001b[0m\u001b[1;33m(\u001b[0m\u001b[0mf\u001b[0m\u001b[1;33m)\u001b[0m\u001b[1;33m\u001b[0m\u001b[1;33m\u001b[0m\u001b[0m\n",
      "\u001b[1;31mValueError\u001b[0m: invalid literal for int() with base 10: '5-Apr'"
     ]
    }
   ],
   "source": [
    "import numpy as np\n",
    "f=open('Cell_culture.txt')\n",
    "def read(file):\n",
    "    mas=file.readlines()\n",
    "    leng=len(mas)\n",
    "    imas=[[0]*4 for i in range (leng-1)]\n",
    "    for i in range (1, leng):\n",
    "        for j in range (4):\n",
    "            imas[i-1][j]=mas[i].strip().split('\\t')[j]\n",
    "    imas=np.array(imas)\n",
    "    imas=np.array(imas, dtype=[('Date', str, 6), ('Name', str, 5), ('Volume', int), ('Comment', str, 15)])\n",
    "    return imas\n",
    "M=read(f)\n",
    "print(M)"
   ]
  },
  {
   "cell_type": "code",
   "execution_count": null,
   "metadata": {},
   "outputs": [],
   "source": []
  }
 ],
 "metadata": {
  "kernelspec": {
   "display_name": "Python 3",
   "language": "python",
   "name": "python3"
  },
  "language_info": {
   "codemirror_mode": {
    "name": "ipython",
    "version": 3
   },
   "file_extension": ".py",
   "mimetype": "text/x-python",
   "name": "python",
   "nbconvert_exporter": "python",
   "pygments_lexer": "ipython3",
   "version": "3.7.3"
  }
 },
 "nbformat": 4,
 "nbformat_minor": 2
}
