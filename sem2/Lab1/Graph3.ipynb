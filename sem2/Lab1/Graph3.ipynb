{
 "cells": [
  {
   "cell_type": "markdown",
   "metadata": {},
   "source": [
    "# Задание 2 от 16.02.22"
   ]
  },
  {
   "cell_type": "code",
   "execution_count": 14,
   "metadata": {},
   "outputs": [
    {
     "name": "stdout",
     "output_type": "stream",
     "text": [
      "5\n",
      "1\n",
      "2\n",
      "3\n",
      "3\n",
      "33\n",
      "Mediana: 3\n"
     ]
    }
   ],
   "source": [
    "#Расчет медианы упорядоченного непустого списка\n",
    "import numpy as np\n",
    "n=int(input())\n",
    "x=[]\n",
    "for i in range(n):\n",
    "    a=int(input())\n",
    "    x+=[a]\n",
    "x=np.array(x)\n",
    "if (n%2==0):\n",
    "    k=n//2+1\n",
    "    l=n//2\n",
    "    mediana=(x[k-1]+x[l-1])/2\n",
    "else:\n",
    "    m=n//2+1\n",
    "    mediana=x[m-1]\n",
    "print('Mediana:', mediana)"
   ]
  },
  {
   "cell_type": "code",
   "execution_count": null,
   "metadata": {},
   "outputs": [],
   "source": [
    " #Расчет среднеквадратичного отклонения\n"
   ]
  },
  {
   "cell_type": "code",
   "execution_count": null,
   "metadata": {},
   "outputs": [],
   "source": [
    "import numpy as np\n",
    "n=int(input())\n",
    "x=[]\n",
    "glob=0\n",
    "pred=0\n",
    "for i in range(n):\n",
    "    a=int(input())\n",
    "    x+=[a]\n",
    "x=np.array(x)\n",
    "for i in range(n):\n",
    "    glob+=x[i]\n",
    "m=glob/n\n",
    "for i in range(n):\n",
    "    ford=(x[i]-m)**2\n",
    "    pred+=ford\n",
    "sqrd=(1/(n-1))*pred\n",
    "d=sqrd**0.5\n",
    "print('Disp:', d)"
   ]
  },
  {
   "cell_type": "code",
   "execution_count": null,
   "metadata": {},
   "outputs": [],
   "source": []
  },
  {
   "cell_type": "code",
   "execution_count": null,
   "metadata": {},
   "outputs": [],
   "source": []
  }
 ],
 "metadata": {
  "kernelspec": {
   "display_name": "Python 3",
   "language": "python",
   "name": "python3"
  },
  "language_info": {
   "codemirror_mode": {
    "name": "ipython",
    "version": 3
   },
   "file_extension": ".py",
   "mimetype": "text/x-python",
   "name": "python",
   "nbconvert_exporter": "python",
   "pygments_lexer": "ipython3",
   "version": "3.7.3"
  }
 },
 "nbformat": 4,
 "nbformat_minor": 2
}
