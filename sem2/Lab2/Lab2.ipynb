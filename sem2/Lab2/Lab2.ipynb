{
 "cells": [
  {
   "cell_type": "code",
   "execution_count": 1,
   "metadata": {},
   "outputs": [],
   "source": [
    "import numpy as np\n",
    "import matplotlib.pyplot as plt"
   ]
  },
  {
   "cell_type": "code",
   "execution_count": 17,
   "metadata": {},
   "outputs": [
    {
     "data": {
      "image/png": "[encoded data removed]",
      "text/plain": [
       "<Figure size 432x288 with 1 Axes>"
      ]
     },
     "metadata": {
      "needs_background": "light"
     },
     "output_type": "display_data"
    }
   ],
   "source": [
    "import numpy as np\n",
    "import matplotlib.pyplot as plt\n",
    "f=open('mutant.txt', 'r')\n",
    "d=open('wild_type.txt', 'r')\n",
    "data_x=[]\n",
    "data_y=[]\n",
    "data_x_w=[]\n",
    "data_y_w=[]\n",
    "for line in f:\n",
    "    #stroka=f.readline()\n",
    "    if line.split('\\t')[0]!='Concentration, nM':\n",
    "        #print(line)\n",
    "        #print(len(line))\n",
    "        data_x.append(float(line.split('\\t')[0]))\n",
    "        data_y.append(float(line.split('\\t')[1]))\n",
    "for line in d:\n",
    "    #stroka=f.readline()\n",
    "    if line.split('\\t')[0]!='Concentration, nM':\n",
    "       #print(line)\n",
    "       #print(len(line))\n",
    "        data_x_w.append(float(line.split('\\t')[0]))\n",
    "        data_y_w.append(float(line.split('\\t')[1]))        \n",
    "        \n",
    "plt.plot(data_x, data_y)\n",
    "plt.plot(data_x_w, data_y_w)\n",
    "plt.show()"
   ]
  },
  {
   "cell_type": "code",
   "execution_count": 4,
   "metadata": {},
   "outputs": [
    {
     "data": {
      "text/plain": [
       "<function matplotlib.pyplot.show(*args, **kw)>"
      ]
     },
     "execution_count": 4,
     "metadata": {},
     "output_type": "execute_result"
    },
    {
     "data": {
      "image/png": "[encoded data removed]",
      "text/plain": [
       "<Figure size 432x288 with 1 Axes>"
      ]
     },
     "metadata": {
      "needs_background": "light"
     },
     "output_type": "display_data"
    }
   ],
   "source": [
    "import numpy as np\n",
    "import matplotlib.pyplot as plt\n",
    "f=open('Chromo.txt')\n",
    "data_x=[]\n",
    "data_y=[]\n",
    "for line in f:\n",
    "    if line.split('\\t')[0]!='Time (min)':\n",
    "        data_x.append(float(line.split('\\t')[0]))\n",
    "        data_y.append(float(line.split('\\t')[1]))\n",
    "plt.plot(data_x, data_y)\n",
    "plt.show\n",
    "        "
   ]
  },
  {
   "cell_type": "code",
   "execution_count": 11,
   "metadata": {},
   "outputs": [
    {
     "name": "stdout",
     "output_type": "stream",
     "text": [
      "Data 1.1: -0.19653678303553648\n",
      "Data 1.2: -0.4069458455729012\n",
      "Data 2: -0.24212658310598273\n",
      "Data Example 1: -0.9117025433725147\n",
      "Data Example 2: 0.024241126907959258\n",
      "Data Example 3: -0.11633950586584875\n"
     ]
    }
   ],
   "source": [
    "import numpy as np\n",
    "import matplotlib.pyplot as plt\n",
    "def correlation(mas_x, mas_y):\n",
    "    a_x=np.mean(mas_x)\n",
    "    a_y=np.mean(mas_y)\n",
    "    b_x=np.std(mas_x)\n",
    "    b_y=np.std(mas_y)\n",
    "    Rn=0\n",
    "    for i in range (len(mas_x)):\n",
    "        Rn+=(((mas_x[i]-a_x)/(b_x))*((mas_y[i]-a_y)/(b_y)))\n",
    "    r=Rn/len(mas_x)\n",
    "    return r\n",
    "f=open('mutant.txt', 'r')\n",
    "d=open('wild_type.txt', 'r')\n",
    "data_x=[]\n",
    "data_y=[]\n",
    "data_x_w=[]\n",
    "data_y_w=[]\n",
    "for line in f:\n",
    "    if line.split('\\t')[0]!='Concentration, nM':\n",
    "        data_x.append(float(line.split('\\t')[0]))\n",
    "        data_y.append(float(line.split('\\t')[1]))\n",
    "for line in d:\n",
    "    if line.split('\\t')[0]!='Concentration, nM':\n",
    "        data_x_w.append(float(line.split('\\t')[0]))\n",
    "        data_y_w.append(float(line.split('\\t')[1])) \n",
    "p=open('Chromo.txt')\n",
    "data_x1=[]\n",
    "data_y1=[]\n",
    "for line in p:\n",
    "    if line.split('\\t')[0]!='Time (min)':\n",
    "        data_x1.append(float(line.split('\\t')[0]))\n",
    "        data_y1.append(float(line.split('\\t')[1]))\n",
    "x1 = [1, 2, 3, 4, 5]\n",
    "y1 = [0.99, 0.49, 0.35, 0.253, 0.18]\n",
    "x2 = np.random.rand(100) \n",
    "y2 = np.random.rand(100) \n",
    "data = 10 * np.random.rand(100) \n",
    "x3 = np.sort(data)              \n",
    "epsilon3 = np.random.rand(100)  \n",
    "y3 = (x3-5)**2 / 10 + epsilon3 - 0.5\n",
    "print('Data 1.1:', correlation(data_x, data_y))\n",
    "print('Data 1.2:', correlation(data_x_w, data_y_w))\n",
    "print('Data 2:', correlation(data_x1, data_y1))\n",
    "print('Data Example 1:', correlation(x1, y1))\n",
    "print('Data Example 2:', correlation(x2, y2))\n",
    "print('Data Example 3:', correlation(x3, y3))"
   ]
  },
  {
   "cell_type": "code",
   "execution_count": null,
   "metadata": {},
   "outputs": [],
   "source": []
  }
 ],
 "metadata": {
  "kernelspec": {
   "display_name": "Python 3",
   "language": "python",
   "name": "python3"
  },
  "language_info": {
   "codemirror_mode": {
    "name": "ipython",
    "version": 3
   },
   "file_extension": ".py",
   "mimetype": "text/x-python",
   "name": "python",
   "nbconvert_exporter": "python",
   "pygments_lexer": "ipython3",
   "version": "3.7.3"
  }
 },
 "nbformat": 4,
 "nbformat_minor": 2
}
