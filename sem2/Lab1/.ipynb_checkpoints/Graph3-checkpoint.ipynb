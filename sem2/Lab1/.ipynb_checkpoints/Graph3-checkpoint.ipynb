{
 "cells": [
  {
   "cell_type": "markdown",
   "metadata": {},
   "source": [
    "# Задание 2 от 16.02.22"
   ]
  },
  {
   "cell_type": "code",
   "execution_count": 14,
   "metadata": {},
   "outputs": [
    {
     "name": "stdout",
     "output_type": "stream",
     "text": [
      "5\n",
      "1\n",
      "2\n",
      "3\n",
      "3\n",
      "33\n",
      "Mediana: 3\n"
     ]
    }
   ],
   "source": [
    "#Расчет медианы упорядоченного непустого списка\n",
    "import numpy as np\n",
    "n=int(input())\n",
    "x=[]\n",
    "for i in range(n):\n",
    "    a=int(input())\n",
    "    x+=[a]\n",
    "x=np.array(x)\n",
    "if (n%2==0):\n",
    "    k=n//2+1\n",
    "    l=n//2\n",
    "    mediana=(x[k-1]+x[l-1])/2\n",
    "else:\n",
    "    m=n//2+1\n",
    "    mediana=x[m-1]\n",
    "print('Mediana:', mediana)"
   ]
  },
  {
   "cell_type": "code",
   "execution_count": null,
   "metadata": {},
   "outputs": [],
   "source": [
    " #Расчет среднеквадратичного отклонения\n"
   ]
  },
  {
   "cell_type": "code",
   "execution_count": 1,
   "metadata": {},
   "outputs": [
    {
     "name": "stdout",
     "output_type": "stream",
     "text": [
      "3\n",
      "7\n",
      "8\n",
      "0\n",
      "Disp: 4.358898943540674\n"
     ]
    }
   ],
   "source": [
    "import numpy as np\n",
    "n=int(input())\n",
    "x=[]\n",
    "glob=0\n",
    "pred=0\n",
    "for i in range(n):\n",
    "    a=int(input())\n",
    "    x+=[a]\n",
    "x=np.array(x)\n",
    "for i in range(n):\n",
    "    glob+=x[i]\n",
    "m=glob/n\n",
    "for i in range(n):\n",
    "    ford=(x[i]-m)**2\n",
    "    pred+=ford\n",
    "sqrd=(1/(n-1))*pred\n",
    "d=sqrd**0.5\n",
    "print('Disp:', d)"
   ]
  },
  {
   "cell_type": "code",
   "execution_count": 11,
   "metadata": {},
   "outputs": [
    {
     "name": "stdout",
     "output_type": "stream",
     "text": [
      "8\n",
      "26\n",
      "36\n",
      "49\n",
      "59\n",
      "70\n",
      "71\n",
      "87\n",
      "88\n",
      "42.5 79.0\n",
      "36.5\n"
     ]
    }
   ],
   "source": [
    "#Расчет межквартильного размаха\n",
    "import numpy as np\n",
    "n=int(input())\n",
    "x=[]\n",
    "y=[]\n",
    "k=n//2\n",
    "l=n-k\n",
    "#print(k,l)\n",
    "for i in range (k):\n",
    "    a=int(input())\n",
    "    x+=[a]\n",
    "#print(x)\n",
    "for i in range (l):\n",
    "    b=int(input())\n",
    "    y+=[b]\n",
    "#print(y)\n",
    "def median (mas, n):\n",
    "    if n%2==0:\n",
    "        s=n//2\n",
    "        p=n//2+1\n",
    "        mediana=(mas[s-1]+mas[p-1])/2\n",
    "    else:\n",
    "        m=n//2+1\n",
    "        mediana=mas[m-1]\n",
    "    return mediana\n",
    "med1=median(x,k)\n",
    "med2=median(y,l)\n",
    "med=med2-med1\n",
    "print(med1, med2)\n",
    "print(med)"
   ]
  },
  {
   "cell_type": "code",
   "execution_count": 21,
   "metadata": {},
   "outputs": [
    {
     "data": {
      "image/png": "[encoded data removed]",
      "text/plain": [
       "<Figure size 432x288 with 3 Axes>"
      ]
     },
     "metadata": {
      "needs_background": "light"
     },
     "output_type": "display_data"
    }
   ],
   "source": [
    "import matplotlib.pyplot as plt\n",
    "colors=['red', 'orange', 'yellow', 'green', 'blue']\n",
    "#colors2=['orange', 'yellow', 'green', 'blue', 'violet']\n",
    "#colors3=['yellow', 'green', 'blue', 'violet', 'brown']\n",
    "labels=['A', 'B', 'C', 'D', 'E']\n",
    "x=[1, 2, 3, 4, 5]\n",
    "y1=[16, 18, 20, 22, 24]\n",
    "y2=[20, 20, 18, 22, 24]\n",
    "y3=[24, 22, 20, 18, 16]\n",
    "\n",
    "sp=plt.subplot(131)\n",
    "plt.bar(x, y1, color=colors, edgecolor='k', tick_label=labels)\n",
    "plt.grid(True, axis='y')\n",
    "\n",
    "sp=plt.subplot(132)\n",
    "plt.bar(x, y2, color=colors, edgecolor='k', tick_label=labels)\n",
    "plt.grid(True, axis='y')\n",
    "\n",
    "sp=plt.subplot(133)\n",
    "plt.bar(x, y3, color=colors, edgecolor='k', tick_label=labels)\n",
    "plt.grid(True, axis='y')"
   ]
  },
  {
   "cell_type": "code",
   "execution_count": 20,
   "metadata": {},
   "outputs": [
    {
     "data": {
      "image/png": "[encoded data removed]",
      "text/plain": [
       "<Figure size 432x288 with 3 Axes>"
      ]
     },
     "metadata": {},
     "output_type": "display_data"
    }
   ],
   "source": [
    "sp=plt.subplot(131)\n",
    "plt.pie(y1, labels=labels)\n",
    "\n",
    "sp=plt.subplot(132)\n",
    "plt.pie(y2, labels=labels)\n",
    "\n",
    "sp=plt.subplot(133)\n",
    "plt.pie(y3, labels=labels)\n",
    "\n",
    "plt.show()"
   ]
  },
  {
   "cell_type": "code",
   "execution_count": null,
   "metadata": {},
   "outputs": [],
   "source": [
    "#Столбчатые диаграммы кажутся намного более наглядными"
   ]
  }
 ],
 "metadata": {
  "kernelspec": {
   "display_name": "Python 3",
   "language": "python",
   "name": "python3"
  },
  "language_info": {
   "codemirror_mode": {
    "name": "ipython",
    "version": 3
   },
   "file_extension": ".py",
   "mimetype": "text/x-python",
   "name": "python",
   "nbconvert_exporter": "python",
   "pygments_lexer": "ipython3",
   "version": "3.7.3"
  }
 },
 "nbformat": 4,
 "nbformat_minor": 2
}
