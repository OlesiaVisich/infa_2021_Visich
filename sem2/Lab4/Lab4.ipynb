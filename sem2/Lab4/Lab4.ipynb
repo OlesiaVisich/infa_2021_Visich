{
 "cells": [
  {
   "cell_type": "code",
   "execution_count": 16,
   "metadata": {},
   "outputs": [
    {
     "name": "stdout",
     "output_type": "stream",
     "text": [
      "[[ 4  3  2  1]\n",
      " [ 5  6  7  8]\n",
      " [ 9 10 11 12]\n",
      " [16 15 14 13]]\n",
      "[[ 4  5  9 16]\n",
      " [ 3  6 10 15]\n",
      " [ 2  7 11 14]\n",
      " [ 1  8 12 13]]\n",
      "[[ 4  3  2  1  4  5  9 16]\n",
      " [ 5  6  7  8  3  6 10 15]\n",
      " [ 9 10 11 12  2  7 11 14]\n",
      " [16 15 14 13  1  8 12 13]]\n",
      "[[ 4  3  2  1]\n",
      " [ 5  6  7  8]\n",
      " [ 9 10 11 12]\n",
      " [16 15 14 13]\n",
      " [ 4  5  9 16]\n",
      " [ 3  6 10 15]\n",
      " [ 2  7 11 14]\n",
      " [ 1  8 12 13]]\n",
      "[ 4  3  2  1  5  6  7  8  9 10 11 12 16 15 14 13  4  5  9 16  3  6 10 15\n",
      "  2  7 11 14  1  8 12 13]\n"
     ]
    }
   ],
   "source": [
    "import numpy as np\n",
    "square = np.array([\n",
    "    [16, 3, 2, 13],\n",
    "    [5, 10, 11, 8],\n",
    "    [9, 6, 7, 12],\n",
    "    [4, 15, 14, 1]\n",
    "])\n",
    "square1=np.sort(square, axis=0)\n",
    "squareT=square1.T\n",
    "con1=np.hstack((square1, squareT))\n",
    "con2=np.vstack((square1, squareT))\n",
    "con3=np.concatenate((square1, squareT), axis=None)\n",
    "print(square1)\n",
    "print(squareT)\n",
    "print(con1)\n",
    "print(con2)\n",
    "print(con3)"
   ]
  },
  {
   "cell_type": "code",
   "execution_count": 27,
   "metadata": {},
   "outputs": [
    {
     "name": "stdout",
     "output_type": "stream",
     "text": [
      "1000\n",
      "1000\n",
      "1\n",
      "-1\n",
      "2\n",
      "2000\n",
      "1234\n",
      "234\n",
      "123\n",
      "134\n",
      "[1000 1000    1   -1    2 2000 1234  234  123  134] 11\n"
     ]
    }
   ],
   "source": [
    "import numpy as np\n",
    "def optimize(mas):\n",
    "    minimum=min(mas)\n",
    "    maximum=max(mas)\n",
    "    if minimum>=0:\n",
    "        minus=False\n",
    "    else:\n",
    "        minus=True\n",
    "    if minus:\n",
    "        nmin=int(-np.log2(abs(minimum)+1))\n",
    "        nmax=int(np.log2(maximum+1)+1)\n",
    "        n=max(nmin, nmax)\n",
    "    else:\n",
    "        n=int(np.log2(maximum+1))\n",
    "    if minus:\n",
    "        if n<=8:\n",
    "            M=np.array(mas, dtype=np.int8)\n",
    "        elif n<=16:\n",
    "            M=np.array(mas, dtype=np.int16)\n",
    "        elif n<=32:\n",
    "            M=np.array(mas, dtype=np.int32)\n",
    "        else:\n",
    "            M=np.array(mas, dtype=np.int64)\n",
    "    else:\n",
    "        if n<=8:\n",
    "            M=np.array(mas, dtype=np.uint8)\n",
    "        elif n<=16:\n",
    "            M=np.array(mas, dtype=np.uint16)\n",
    "        elif n<=32:\n",
    "            M=np.array(mas, dtype=np.uint32)\n",
    "        else:\n",
    "            M=np.array(mas, dtype=np.uint64)\n",
    "    return M, n\n",
    "mas=[]\n",
    "for i in range (10):\n",
    "    m=int(input())\n",
    "    mas.append(m)\n",
    "Arr, n=optimize(mas)\n",
    "print(Arr)"
   ]
  },
  {
   "cell_type": "code",
   "execution_count": 49,
   "metadata": {},
   "outputs": [
    {
     "name": "stdout",
     "output_type": "stream",
     "text": [
      "343 ['Dasha' 'Liza']\n"
     ]
    }
   ],
   "source": [
    "import numpy as np\n",
    "f=open('Cell_culture.txt')\n",
    "V=0\n",
    "def read(file):\n",
    "    mas=file.readlines()\n",
    "    leng=len(mas)\n",
    "    imas=[[0]*4 for i in range (leng-1)]\n",
    "    for i in range (1, leng):\n",
    "        imas[i-1]=tuple(mas[i].strip().split('\\t'))\n",
    "    #imas=np.array(imas)\n",
    "    imas=np.array(imas, dtype=[('Date', str, 6), ('Name', str, 5), ('Volume', int), ('Comment', str, 15)])\n",
    "    return imas\n",
    "M=read(f)\n",
    "Mas=M[M['Date']=='5-Apr']['Volume']\n",
    "for i in range (len(Mas)):\n",
    "    V+=Mas[i]\n",
    "Nam=M[M['Date']=='9-Apr']['Name']\n",
    "print(V, Nam)"
   ]
  },
  {
   "cell_type": "code",
   "execution_count": null,
   "metadata": {},
   "outputs": [],
   "source": []
  }
 ],
 "metadata": {
  "kernelspec": {
   "display_name": "Python 3",
   "language": "python",
   "name": "python3"
  },
  "language_info": {
   "codemirror_mode": {
    "name": "ipython",
    "version": 3
   },
   "file_extension": ".py",
   "mimetype": "text/x-python",
   "name": "python",
   "nbconvert_exporter": "python",
   "pygments_lexer": "ipython3",
   "version": "3.7.3"
  }
 },
 "nbformat": 4,
 "nbformat_minor": 2
}
